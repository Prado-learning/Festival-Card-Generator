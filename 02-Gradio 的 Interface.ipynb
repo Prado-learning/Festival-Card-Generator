{
 "cells": [
  {
   "cell_type": "markdown",
   "id": "65edf892-ab1b-4ef1-9a44-1ddc40eeaa34",
   "metadata": {},
   "source": [
    "## 简介\n",
    "\n",
    "Gradio 的 [Interface](https://www.gradio.app/docs/gradio/interface) 是 Gradio 中高度封装的一种布局方式，比较适合面向小白用户，允许用户通过几行代码就可以生成 WebUI。\n",
    "\n",
    "`Interface` 组件的核心是在上一节中提到的三个参数：\n",
    "\n",
    "- fn：指定了处理输入数据的函数。\n",
    "- inputs：指定输入类型。\n",
    "- outputs：设置了期望的输出格式。\n",
    "\n",
    "除了核心的参数之外，其余参数大多和整体的界面布局有关。\n",
    "\n",
    "## 更新 Gradio 界面\n",
    "\n",
    "我们更新上一节的 Gradio 界面，假设我们想要构建一个应用，该应用不仅能够反转文本，还能计算给定字符串的长度。"
   ]
  },
  {
   "cell_type": "code",
   "execution_count": 1,
   "id": "7ae49ab7-07c9-428f-a0b9-dcda3fd5d56c",
   "metadata": {
    "execution": {
     "iopub.execute_input": "2025-01-14T02:30:56.564345Z",
     "iopub.status.busy": "2025-01-14T02:30:56.564009Z",
     "iopub.status.idle": "2025-01-14T02:30:56.570057Z",
     "shell.execute_reply": "2025-01-14T02:30:56.569301Z",
     "shell.execute_reply.started": "2025-01-14T02:30:56.564320Z"
    },
    "tags": []
   },
   "outputs": [],
   "source": [
    "# 如果你正在 ModelScope 的 Notebook 中，还需要运行下面这段代码：\n",
    "import os\n",
    "os.environ['GRADIO_ROOT_PATH'] = f\"/{os.environ['JUPYTER_NAME']}/proxy/7860\""
   ]
  },
  {
   "cell_type": "code",
   "execution_count": 2,
   "id": "ed8450b4-d43f-417d-8249-9b658f50d106",
   "metadata": {
    "ExecutionIndicator": {
     "show": true
    },
    "execution": {
     "iopub.execute_input": "2025-01-14T02:30:58.680685Z",
     "iopub.status.busy": "2025-01-14T02:30:58.680387Z",
     "iopub.status.idle": "2025-01-14T02:31:01.452129Z",
     "shell.execute_reply": "2025-01-14T02:31:01.451663Z",
     "shell.execute_reply.started": "2025-01-14T02:30:58.680661Z"
    },
    "tags": []
   },
   "outputs": [
    {
     "name": "stdout",
     "output_type": "stream",
     "text": [
      "* Running on local URL:  http://127.0.0.1:7861\n",
      "\n",
      "To create a public link, set `share=True` in `launch()`.\n"
     ]
    },
    {
     "data": {
      "text/html": [
       "<div><iframe src=\"http://127.0.0.1:7861/\" width=\"100%\" height=\"500\" allow=\"autoplay; camera; microphone; clipboard-read; clipboard-write;\" frameborder=\"0\" allowfullscreen></iframe></div>"
      ],
      "text/plain": [
       "<IPython.core.display.HTML object>"
      ]
     },
     "metadata": {},
     "output_type": "display_data"
    },
    {
     "data": {
      "text/plain": []
     },
     "execution_count": 2,
     "metadata": {},
     "output_type": "execute_result"
    }
   ],
   "source": [
    "# 在 Notebook 中需要额外运行此代码来关闭之前服务的影响，正常开发不需要\n",
    "try:\n",
    "    demo.close()\n",
    "except NameError:\n",
    "    pass\n",
    "\n",
    "# 下面才是完整代码\n",
    "import gradio as gr\n",
    "\n",
    "# 这是修改后的函数\n",
    "def reverse_and_count(text):\n",
    "    reversed_text = text[::-1]\n",
    "    length = len(text)\n",
    "    return reversed_text, length\n",
    "\n",
    "demo = gr.Interface(\n",
    "    fn=reverse_and_count,\n",
    "    inputs=\"text\",\n",
    "    # flagging_mode=\"never\",\n",
    "    outputs=[\"text\", \"number\"],  # 第一个输出是文本，第二个输出是一个数字\n",
    "    title=\"文本处理工具\",  # 设置页面标题\n",
    "    description=\"输入一段文字，查看其倒序形式及字符数。\",  # 添加简短说明\n",
    "    examples=[[\"你好，世界\"], [\"Hello World\"]]\n",
    ")\n",
    "\n",
    "demo.launch()"
   ]
  },
  {
   "cell_type": "markdown",
   "id": "a2b969f2-9f04-473b-804e-b1ce4459b514",
   "metadata": {},
   "source": [
    "这里 `outputs` 参数被设置为列表，允许同时显示两个不同类型的输出结果。"
   ]
  },
  {
   "cell_type": "markdown",
   "id": "9f4a0538-66f7-46ee-bd45-ebcdd433857d",
   "metadata": {
    "execution": {
     "iopub.execute_input": "2024-12-16T11:41:13.467568Z",
     "iopub.status.busy": "2024-12-16T11:41:13.467228Z",
     "iopub.status.idle": "2024-12-16T11:41:13.470120Z",
     "shell.execute_reply": "2024-12-16T11:41:13.469615Z",
     "shell.execute_reply.started": "2024-12-16T11:41:13.467548Z"
    },
    "tags": []
   },
   "source": [
    "## 更改组件的初始化值\n",
    "\n",
    "`Interface`组件的输入输出除了可以接收字符串外，还可以接收由 Gradio 导出的任意其他组件实例，我们可以为这些实例添加初始值，来实现更定制化的需求："
   ]
  },
  {
   "cell_type": "code",
   "execution_count": 3,
   "id": "b85bdca0-4a20-456e-8a93-43d09032db78",
   "metadata": {
    "ExecutionIndicator": {
     "show": true
    },
    "execution": {
     "iopub.execute_input": "2025-01-14T02:31:43.176012Z",
     "iopub.status.busy": "2025-01-14T02:31:43.175663Z",
     "iopub.status.idle": "2025-01-14T02:31:43.576344Z",
     "shell.execute_reply": "2025-01-14T02:31:43.575891Z",
     "shell.execute_reply.started": "2025-01-14T02:31:43.175988Z"
    },
    "tags": []
   },
   "outputs": [
    {
     "name": "stdout",
     "output_type": "stream",
     "text": [
      "Closing server running on port: 7861\n",
      "* Running on local URL:  http://127.0.0.1:7861\n",
      "\n",
      "To create a public link, set `share=True` in `launch()`.\n"
     ]
    },
    {
     "data": {
      "text/html": [
       "<div><iframe src=\"http://127.0.0.1:7861/\" width=\"100%\" height=\"500\" allow=\"autoplay; camera; microphone; clipboard-read; clipboard-write;\" frameborder=\"0\" allowfullscreen></iframe></div>"
      ],
      "text/plain": [
       "<IPython.core.display.HTML object>"
      ]
     },
     "metadata": {},
     "output_type": "display_data"
    },
    {
     "data": {
      "text/plain": []
     },
     "execution_count": 3,
     "metadata": {},
     "output_type": "execute_result"
    }
   ],
   "source": [
    "# 在 Notebook 中需要额外运行此代码来关闭之前服务的影响，正常开发不需要\n",
    "try:\n",
    "    demo.close()\n",
    "except NameError:\n",
    "    pass\n",
    "\n",
    "# 下面才是完整代码\n",
    "import gradio as gr\n",
    "\n",
    "# 下面的示例中，我们可以通过输入文字，将其输出到 output 侧，并最终通过 Slider 选择的值为后面添加不同个数的 !\n",
    "def greet(name, intensity):\n",
    "    return \"Hello, \" + name + \"!\" * intensity\n",
    "\n",
    "demo = gr.Interface(\n",
    "    fn=greet,\n",
    "    inputs=[\"text\", gr.Slider(value=2, minimum=1, maximum=10, step=1)],\n",
    "    outputs=[gr.Text(label=\"greeting\", lines=3)],\n",
    ")\n",
    "\n",
    "demo.launch()"
   ]
  },
  {
   "cell_type": "markdown",
   "id": "5b0e2a6a-8800-4d27-a3af-c1c5d5a6626c",
   "metadata": {},
   "source": [
    "## 其他组件示例"
   ]
  },
  {
   "cell_type": "markdown",
   "id": "ea75ca38-56ac-4963-8379-a7ec30440270",
   "metadata": {},
   "source": [
    "### 绘制函数\n",
    "\n",
    "使用 Number 组件输入函数的参数范围和点数，使用 Plot 组件绘制正弦波图。"
   ]
  },
  {
   "cell_type": "code",
   "execution_count": 4,
   "id": "972f438a-0957-4557-96f7-9d926d29b0f4",
   "metadata": {
    "ExecutionIndicator": {
     "show": true
    },
    "execution": {
     "iopub.execute_input": "2025-01-14T02:32:01.392910Z",
     "iopub.status.busy": "2025-01-14T02:32:01.392582Z",
     "iopub.status.idle": "2025-01-14T02:32:02.408390Z",
     "shell.execute_reply": "2025-01-14T02:32:02.407863Z",
     "shell.execute_reply.started": "2025-01-14T02:32:01.392890Z"
    },
    "tags": []
   },
   "outputs": [
    {
     "name": "stdout",
     "output_type": "stream",
     "text": [
      "Closing server running on port: 7861\n",
      "* Running on local URL:  http://127.0.0.1:7861\n",
      "\n",
      "To create a public link, set `share=True` in `launch()`.\n"
     ]
    },
    {
     "data": {
      "text/html": [
       "<div><iframe src=\"http://127.0.0.1:7861/\" width=\"100%\" height=\"500\" allow=\"autoplay; camera; microphone; clipboard-read; clipboard-write;\" frameborder=\"0\" allowfullscreen></iframe></div>"
      ],
      "text/plain": [
       "<IPython.core.display.HTML object>"
      ]
     },
     "metadata": {},
     "output_type": "display_data"
    },
    {
     "data": {
      "text/plain": []
     },
     "execution_count": 4,
     "metadata": {},
     "output_type": "execute_result"
    }
   ],
   "source": [
    "# 在 Notebook 中需要额外运行此代码来关闭之前服务的影响，正常开发不需要\n",
    "try:\n",
    "    demo.close()\n",
    "except NameError:\n",
    "    pass\n",
    "\n",
    "# 下面才是完整代码\n",
    "import gradio as gr\n",
    "import numpy as np\n",
    "import matplotlib.pyplot as plt\n",
    "\n",
    "def plot_function(x_min, x_max, n_points):\n",
    "    x = np.linspace(x_min, x_max, n_points)\n",
    "    y = np.sin(x)\n",
    "    plt.figure()\n",
    "    plt.plot(x, y)\n",
    "    plt.title(\"Sine Wave\")\n",
    "    plt.xlabel(\"x\")\n",
    "    plt.ylabel(\"sin(x)\")\n",
    "    return plt\n",
    "\n",
    "demo = gr.Interface(\n",
    "    fn=plot_function,\n",
    "    inputs=[\n",
    "        gr.Number(label=\"X Min\"),\n",
    "        gr.Number(label=\"X Max\"),\n",
    "        gr.Number(label=\"Number of Points\")\n",
    "    ],\n",
    "    outputs=[gr.Plot()],\n",
    "    title=\"Function Plotter\",\n",
    "    description=\"Plot a sine wave function based on the given parameters.\"\n",
    ")\n",
    "\n",
    "demo.launch()"
   ]
  },
  {
   "cell_type": "markdown",
   "id": "8524b189-91ab-47f4-8534-d7ff03edff58",
   "metadata": {
    "execution": {
     "iopub.execute_input": "2024-12-17T03:46:19.404286Z",
     "iopub.status.busy": "2024-12-17T03:46:19.403954Z",
     "iopub.status.idle": "2024-12-17T03:46:19.409809Z",
     "shell.execute_reply": "2024-12-17T03:46:19.409290Z",
     "shell.execute_reply.started": "2024-12-17T03:46:19.404265Z"
    },
    "tags": []
   },
   "source": [
    "### 图像处理\n",
    "\n",
    "使用 Image 组件输入图像，并将其转换为铅笔素描。"
   ]
  },
  {
   "cell_type": "code",
   "execution_count": 5,
   "id": "47a0e2e3-5ebf-4454-aca4-ec79ce2b5ccf",
   "metadata": {
    "ExecutionIndicator": {
     "show": true
    },
    "execution": {
     "iopub.execute_input": "2025-01-14T02:32:20.347091Z",
     "iopub.status.busy": "2025-01-14T02:32:20.346743Z",
     "iopub.status.idle": "2025-01-14T02:32:21.080647Z",
     "shell.execute_reply": "2025-01-14T02:32:21.080174Z",
     "shell.execute_reply.started": "2025-01-14T02:32:20.347070Z"
    },
    "tags": []
   },
   "outputs": [
    {
     "name": "stdout",
     "output_type": "stream",
     "text": [
      "Closing server running on port: 7861\n",
      "* Running on local URL:  http://127.0.0.1:7861\n",
      "\n",
      "To create a public link, set `share=True` in `launch()`.\n"
     ]
    },
    {
     "data": {
      "text/html": [
       "<div><iframe src=\"http://127.0.0.1:7861/\" width=\"100%\" height=\"500\" allow=\"autoplay; camera; microphone; clipboard-read; clipboard-write;\" frameborder=\"0\" allowfullscreen></iframe></div>"
      ],
      "text/plain": [
       "<IPython.core.display.HTML object>"
      ]
     },
     "metadata": {},
     "output_type": "display_data"
    },
    {
     "data": {
      "text/plain": []
     },
     "execution_count": 5,
     "metadata": {},
     "output_type": "execute_result"
    }
   ],
   "source": [
    "# 在 Notebook 中需要额外运行此代码来关闭之前服务的影响，正常开发不需要\n",
    "try:\n",
    "    demo.close()\n",
    "except NameError:\n",
    "    pass\n",
    "\n",
    "# 下面才是完整代码\n",
    "import gradio as gr\n",
    "import numpy as np\n",
    "import cv2\n",
    "\n",
    "def image_to_sketch(image):\n",
    "    gray_image = image.convert('L')\n",
    "    inverted_image = 255 - np.array(gray_image)\n",
    "    blurred = cv2.GaussianBlur(inverted_image, (21, 21), 0)\n",
    "    inverted_blurred = 255 - blurred\n",
    "    pencil_sketch = cv2.divide(np.array(gray_image), inverted_blurred, scale=256.0)\n",
    "    return pencil_sketch\n",
    "\n",
    "demo = gr.Interface(\n",
    "    fn=image_to_sketch,\n",
    "    inputs=[gr.Image(label=\"Input Image\", type=\"pil\")],\n",
    "    outputs=[gr.Image(label=\"Pencil Sketch\")],\n",
    "    title=\"Image to Pencil Sketch\",\n",
    "    description=\"Convert an input image to a pencil sketch.\"\n",
    ")\n",
    "\n",
    "demo.launch()"
   ]
  },
  {
   "cell_type": "markdown",
   "id": "f0c57daf-b278-4fce-aef2-740de900fb5b",
   "metadata": {},
   "source": [
    "### 音频处理\n",
    "使用 Audio 组件输入音频文件，并生成频谱图。"
   ]
  },
  {
   "cell_type": "code",
   "execution_count": 6,
   "id": "091d3fae-a42d-4c6d-9f22-7b6698c06e5e",
   "metadata": {
    "ExecutionIndicator": {
     "show": true
    },
    "execution": {
     "iopub.execute_input": "2025-01-14T02:32:28.319742Z",
     "iopub.status.busy": "2025-01-14T02:32:28.319398Z",
     "iopub.status.idle": "2025-01-14T02:32:28.721756Z",
     "shell.execute_reply": "2025-01-14T02:32:28.721167Z",
     "shell.execute_reply.started": "2025-01-14T02:32:28.319722Z"
    },
    "tags": []
   },
   "outputs": [
    {
     "name": "stdout",
     "output_type": "stream",
     "text": [
      "Closing server running on port: 7861\n",
      "* Running on local URL:  http://127.0.0.1:7861\n",
      "\n",
      "To create a public link, set `share=True` in `launch()`.\n"
     ]
    },
    {
     "data": {
      "text/html": [
       "<div><iframe src=\"http://127.0.0.1:7861/\" width=\"100%\" height=\"500\" allow=\"autoplay; camera; microphone; clipboard-read; clipboard-write;\" frameborder=\"0\" allowfullscreen></iframe></div>"
      ],
      "text/plain": [
       "<IPython.core.display.HTML object>"
      ]
     },
     "metadata": {},
     "output_type": "display_data"
    },
    {
     "data": {
      "text/plain": []
     },
     "execution_count": 6,
     "metadata": {},
     "output_type": "execute_result"
    }
   ],
   "source": [
    "# 在 Notebook 中需要额外运行此代码来关闭之前服务的影响，正常开发不需要\n",
    "try:\n",
    "    demo.close()\n",
    "except NameError:\n",
    "    pass\n",
    "\n",
    "# 下面才是完整代码\n",
    "import gradio as gr\n",
    "import matplotlib.pyplot as plt\n",
    "\n",
    "def audio_to_spectrogram(audio):\n",
    "    sr, data = audio\n",
    "    plt.figure(figsize=(10, 5))\n",
    "    plt.specgram(data, Fs=sr)\n",
    "    plt.title(\"Spectrogram\")\n",
    "    plt.xlabel(\"Time\")\n",
    "    plt.ylabel(\"Frequency\")\n",
    "    return plt\n",
    "\n",
    "demo = gr.Interface(\n",
    "    fn=audio_to_spectrogram,\n",
    "    inputs=[gr.Audio(label=\"Input Audio\")],\n",
    "    outputs=[gr.Plot()],\n",
    "    title=\"Audio to Spectrogram\",\n",
    "    description=\"Convert an input audio file to a spectrogram.\"\n",
    ")\n",
    "\n",
    "demo.launch()"
   ]
  },
  {
   "cell_type": "markdown",
   "id": "dbb2f58e-6152-4717-bc0e-cbe909562a48",
   "metadata": {},
   "source": [
    "### 视频处理\n",
    "\n",
    "使用 Video 组件输入视频，并提取第一帧。"
   ]
  },
  {
   "cell_type": "code",
   "execution_count": 7,
   "id": "24cb0b58-2f54-4ced-b9e7-46c0b819fc8c",
   "metadata": {
    "execution": {
     "iopub.execute_input": "2025-01-14T02:32:31.740796Z",
     "iopub.status.busy": "2025-01-14T02:32:31.740480Z",
     "iopub.status.idle": "2025-01-14T02:32:32.252084Z",
     "shell.execute_reply": "2025-01-14T02:32:32.251577Z",
     "shell.execute_reply.started": "2025-01-14T02:32:31.740777Z"
    },
    "tags": []
   },
   "outputs": [
    {
     "name": "stdout",
     "output_type": "stream",
     "text": [
      "Closing server running on port: 7861\n",
      "* Running on local URL:  http://127.0.0.1:7861\n",
      "\n",
      "To create a public link, set `share=True` in `launch()`.\n"
     ]
    },
    {
     "data": {
      "text/html": [
       "<div><iframe src=\"http://127.0.0.1:7861/\" width=\"100%\" height=\"500\" allow=\"autoplay; camera; microphone; clipboard-read; clipboard-write;\" frameborder=\"0\" allowfullscreen></iframe></div>"
      ],
      "text/plain": [
       "<IPython.core.display.HTML object>"
      ]
     },
     "metadata": {},
     "output_type": "display_data"
    },
    {
     "data": {
      "text/plain": []
     },
     "execution_count": 7,
     "metadata": {},
     "output_type": "execute_result"
    }
   ],
   "source": [
    "# 在 Notebook 中需要额外运行此代码来关闭之前服务的影响，正常开发不需要\n",
    "try:\n",
    "    demo.close()\n",
    "except NameError:\n",
    "    pass\n",
    "\n",
    "# 下面才是完整代码\n",
    "import gradio as gr\n",
    "import cv2\n",
    "\n",
    "\n",
    "def video_to_frame(video):\n",
    "    cap = cv2.VideoCapture(video)\n",
    "    ret, frame = cap.read()\n",
    "    if ret:\n",
    "        return frame\n",
    "    else:\n",
    "        return None\n",
    "\n",
    "\n",
    "demo = gr.Interface(\n",
    "    fn=video_to_frame,\n",
    "    inputs=[gr.Video(label=\"Input Video\")],\n",
    "    outputs=[gr.Image(label=\"First Frame\")],\n",
    "    title=\"Video to First Frame\",\n",
    "    description=\"Extract the first frame from an input video.\"\n",
    ")\n",
    "\n",
    "demo.launch()"
   ]
  }
 ],
 "metadata": {
  "kernelspec": {
   "display_name": "Python 3 (ipykernel)",
   "language": "python",
   "name": "python3"
  },
  "language_info": {
   "codemirror_mode": {
    "name": "ipython",
    "version": 3
   },
   "file_extension": ".py",
   "mimetype": "text/x-python",
   "name": "python",
   "nbconvert_exporter": "python",
   "pygments_lexer": "ipython3",
   "version": "3.10.14"
  }
 },
 "nbformat": 4,
 "nbformat_minor": 5
}
