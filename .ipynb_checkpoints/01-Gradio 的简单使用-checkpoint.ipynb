{
 "cells": [
  {
   "cell_type": "markdown",
   "id": "ec6d5577-8807-4890-98cd-5082a1dfefb0",
   "metadata": {},
   "source": [
    "## 简介\n",
    "Gradio (https://www.gradio.app/) 是一个用于快速创建和部署机器学习模型界面的 Python 库，允许用户通过 Python  代码来构建交互式的 Web 界面。\n",
    "\n",
    "### 安装 Gradio\n",
    "开始之前，请确保你的环境中已安装了 Gradio。可以通过 pip 来安装："
   ]
  },
  {
   "cell_type": "code",
   "execution_count": null,
   "id": "ed3cbeba-5a58-4253-b416-a6dcec4b399d",
   "metadata": {
    "tags": []
   },
   "outputs": [],
   "source": [
    "pip install gradio"
   ]
  },
  {
   "cell_type": "markdown",
   "id": "11b157f0-eab8-4bdd-b4b8-e66bec103cca",
   "metadata": {},
   "source": [
    "如果你正在 ModelScope 的 Notebook 中，还需要运行下面这段代码："
   ]
  },
  {
   "cell_type": "code",
   "execution_count": 2,
   "id": "8af1be90-3708-414d-b1d9-34ee564a3940",
   "metadata": {
    "ExecutionIndicator": {
     "show": false
    },
    "execution": {
     "iopub.execute_input": "2024-12-24T09:15:10.984666Z",
     "iopub.status.busy": "2024-12-24T09:15:10.984259Z",
     "iopub.status.idle": "2024-12-24T09:15:10.988142Z",
     "shell.execute_reply": "2024-12-24T09:15:10.987497Z",
     "shell.execute_reply.started": "2024-12-24T09:15:10.984642Z"
    },
    "tags": []
   },
   "outputs": [],
   "source": [
    "# 如果你正在 ModelScope 的 Notebook 中，还需要运行下面这段代码：\n",
    "import os\n",
    "os.environ['GRADIO_ROOT_PATH'] = f\"/{os.environ['JUPYTER_NAME']}/proxy/7860\""
   ]
  },
  {
   "cell_type": "markdown",
   "id": "d1e7080d-7d50-458c-b16d-4fcf770ae987",
   "metadata": {},
   "source": [
    "## 创建第一个 Gradio 应用\n",
    "\n",
    "让我们从一个非常简单的例子开始：一个接收文本输入并返回该文本倒序输出的应用。\n",
    "\n",
    "### 步骤 1: 定义函数\n",
    "\n",
    "首先，定义一个 Python 函数，这个函数将会是 Gradio 界面的核心逻辑，它可以反转用户输入的字符，并再将其输出给用户。"
   ]
  },
  {
   "cell_type": "code",
   "execution_count": 3,
   "id": "f7d09765-a731-4a19-b12d-ee1768f5af0d",
   "metadata": {
    "execution": {
     "iopub.execute_input": "2024-12-16T11:05:16.954170Z",
     "iopub.status.busy": "2024-12-16T11:05:16.953869Z",
     "iopub.status.idle": "2024-12-16T11:05:16.956731Z",
     "shell.execute_reply": "2024-12-16T11:05:16.956323Z",
     "shell.execute_reply.started": "2024-12-16T11:05:16.954151Z"
    },
    "tags": []
   },
   "outputs": [],
   "source": [
    "def reverse_text(text):\n",
    "    return text[::-1]"
   ]
  },
  {
   "cell_type": "markdown",
   "id": "a0ca2f15-094f-428c-8789-7aca5d6a337d",
   "metadata": {},
   "source": [
    "### 步骤 2: 使用 Gradio 构建接口\n",
    "\n",
    "接下来，利用 Gradio 的组件来构建用户界面。这里我们需要一个文本输入框和一个用于显示结果的文本输出区域。"
   ]
  },
  {
   "cell_type": "code",
   "execution_count": 4,
   "id": "1a5d39cf-528e-4da1-b906-3d874e0c583e",
   "metadata": {
    "execution": {
     "iopub.execute_input": "2024-12-16T11:05:18.376792Z",
     "iopub.status.busy": "2024-12-16T11:05:18.376486Z",
     "iopub.status.idle": "2024-12-16T11:05:21.138811Z",
     "shell.execute_reply": "2024-12-16T11:05:21.138298Z",
     "shell.execute_reply.started": "2024-12-16T11:05:18.376773Z"
    },
    "tags": []
   },
   "outputs": [],
   "source": [
    "import gradio as gr\n",
    "\n",
    "demo = gr.Interface(fn=reverse_text, inputs=\"text\", outputs=\"text\")"
   ]
  },
  {
   "cell_type": "markdown",
   "id": "171dbc31-f8fd-4d61-a808-25504bce0208",
   "metadata": {},
   "source": [
    "上面的代码中：\n",
    "- fn 参数指定了处理输入数据的函数。\n",
    "- inputs 指定输入类型，在这里是文本。\n",
    "- outputs 设置了期望的输出格式，同样为文本。"
   ]
  },
  {
   "cell_type": "markdown",
   "id": "ce69e784-b942-48a9-8428-44cbde08f76b",
   "metadata": {},
   "source": [
    "### 步骤 3: 启动服务\n",
    "\n",
    "最后一步是启动 Gradio 提供的服务，我们可以通过浏览器访问到我们刚才创建的界面。"
   ]
  },
  {
   "cell_type": "code",
   "execution_count": null,
   "id": "f9614d16-fae8-4e8c-b40a-0f287a856da9",
   "metadata": {
    "ExecutionIndicator": {
     "show": true
    },
    "tags": []
   },
   "outputs": [],
   "source": [
    "demo.launch()"
   ]
  },
  {
   "cell_type": "markdown",
   "id": "c97c94ac-a3fe-4a9b-b5a5-3fe462b468fb",
   "metadata": {},
   "source": [
    "### 完整代码"
   ]
  },
  {
   "cell_type": "code",
   "execution_count": null,
   "id": "6b391faf-164e-4928-aa94-91114141d2be",
   "metadata": {
    "tags": []
   },
   "outputs": [],
   "source": [
    "# 在 Notebook 中需要额外运行此代码来关闭之前服务的影响，正常开发不需要\n",
    "try:\n",
    "    demo.close()\n",
    "except NameError:\n",
    "    pass\n",
    "\n",
    "import gradio as gr\n",
    "\n",
    "def reverse_text(text):\n",
    "    return text[::-1]\n",
    "\n",
    "demo = gr.Interface(fn=reverse_text, inputs=\"text\", outputs=\"text\")\n",
    "\n",
    "demo.launch()"
   ]
  }
 ],
 "metadata": {
  "kernelspec": {
   "display_name": "Python 3 (ipykernel)",
   "language": "python",
   "name": "python3"
  },
  "language_info": {
   "codemirror_mode": {
    "name": "ipython",
    "version": 3
   },
   "file_extension": ".py",
   "mimetype": "text/x-python",
   "name": "python",
   "nbconvert_exporter": "python",
   "pygments_lexer": "ipython3",
   "version": "3.10.14"
  }
 },
 "nbformat": 4,
 "nbformat_minor": 5
}
