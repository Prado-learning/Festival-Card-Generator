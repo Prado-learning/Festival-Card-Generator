{
 "cells": [
  {
   "cell_type": "markdown",
   "id": "ec6d5577-8807-4890-98cd-5082a1dfefb0",
   "metadata": {},
   "source": [
    "## 简介\n",
    "Gradio (https://www.gradio.app/) 是一个用于快速创建和部署机器学习模型界面的 Python 库，允许用户通过 Python  代码来构建交互式的 Web 界面。\n",
    "\n",
    "### 安装 Gradio\n",
    "开始之前，请确保你的环境中已安装了 Gradio。可以通过 pip 来安装："
   ]
  },
  {
   "cell_type": "code",
   "execution_count": 1,
   "id": "ed3cbeba-5a58-4253-b416-a6dcec4b399d",
   "metadata": {
    "execution": {
     "iopub.execute_input": "2025-01-14T02:27:44.345251Z",
     "iopub.status.busy": "2025-01-14T02:27:44.344918Z",
     "iopub.status.idle": "2025-01-14T02:27:49.192608Z",
     "shell.execute_reply": "2025-01-14T02:27:49.191951Z",
     "shell.execute_reply.started": "2025-01-14T02:27:44.345230Z"
    },
    "tags": []
   },
   "outputs": [
    {
     "name": "stdout",
     "output_type": "stream",
     "text": [
      "Looking in indexes: https://mirrors.cloud.aliyuncs.com/pypi/simple\n",
      "Requirement already satisfied: gradio in /usr/local/lib/python3.10/site-packages (5.8.0)\n",
      "Requirement already satisfied: aiofiles<24.0,>=22.0 in /usr/local/lib/python3.10/site-packages (from gradio) (23.2.1)\n",
      "Requirement already satisfied: anyio<5.0,>=3.0 in /usr/local/lib/python3.10/site-packages (from gradio) (4.6.2.post1)\n",
      "Requirement already satisfied: fastapi<1.0,>=0.115.2 in /usr/local/lib/python3.10/site-packages (from gradio) (0.115.6)\n",
      "Requirement already satisfied: ffmpy in /usr/local/lib/python3.10/site-packages (from gradio) (0.4.0)\n",
      "Requirement already satisfied: gradio-client==1.5.1 in /usr/local/lib/python3.10/site-packages (from gradio) (1.5.1)\n",
      "Requirement already satisfied: httpx>=0.24.1 in /usr/local/lib/python3.10/site-packages (from gradio) (0.28.0)\n",
      "Requirement already satisfied: huggingface-hub>=0.25.1 in /usr/local/lib/python3.10/site-packages (from gradio) (0.25.2)\n",
      "Requirement already satisfied: jinja2<4.0 in /usr/local/lib/python3.10/site-packages (from gradio) (3.1.4)\n",
      "Requirement already satisfied: markupsafe~=2.0 in /usr/local/lib/python3.10/site-packages (from gradio) (2.1.5)\n",
      "Requirement already satisfied: numpy<3.0,>=1.0 in /usr/local/lib/python3.10/site-packages (from gradio) (1.26.4)\n",
      "Requirement already satisfied: orjson~=3.0 in /usr/local/lib/python3.10/site-packages (from gradio) (3.10.12)\n",
      "Requirement already satisfied: packaging in /usr/local/lib/python3.10/site-packages (from gradio) (24.2)\n",
      "Requirement already satisfied: pandas<3.0,>=1.0 in /usr/local/lib/python3.10/site-packages (from gradio) (2.2.3)\n",
      "Requirement already satisfied: pillow<12.0,>=8.0 in /usr/local/lib/python3.10/site-packages (from gradio) (11.0.0)\n",
      "Requirement already satisfied: pydantic>=2.0 in /usr/local/lib/python3.10/site-packages (from gradio) (2.8.2)\n",
      "Requirement already satisfied: pydub in /usr/local/lib/python3.10/site-packages (from gradio) (0.25.1)\n",
      "Requirement already satisfied: python-multipart>=0.0.18 in /usr/local/lib/python3.10/site-packages (from gradio) (0.0.19)\n",
      "Requirement already satisfied: pyyaml<7.0,>=5.0 in /usr/local/lib/python3.10/site-packages (from gradio) (6.0.2)\n",
      "Requirement already satisfied: ruff>=0.2.2 in /usr/local/lib/python3.10/site-packages (from gradio) (0.8.2)\n",
      "Requirement already satisfied: safehttpx<0.2.0,>=0.1.6 in /usr/local/lib/python3.10/site-packages (from gradio) (0.1.6)\n",
      "Requirement already satisfied: semantic-version~=2.0 in /usr/local/lib/python3.10/site-packages (from gradio) (2.10.0)\n",
      "Requirement already satisfied: starlette<1.0,>=0.40.0 in /usr/local/lib/python3.10/site-packages (from gradio) (0.41.3)\n",
      "Requirement already satisfied: tomlkit<0.14.0,>=0.12.0 in /usr/local/lib/python3.10/site-packages (from gradio) (0.13.2)\n",
      "Requirement already satisfied: typer<1.0,>=0.12 in /usr/local/lib/python3.10/site-packages (from gradio) (0.15.1)\n",
      "Requirement already satisfied: typing-extensions~=4.0 in /usr/local/lib/python3.10/site-packages (from gradio) (4.12.2)\n",
      "Requirement already satisfied: uvicorn>=0.14.0 in /usr/local/lib/python3.10/site-packages (from gradio) (0.32.1)\n",
      "Requirement already satisfied: fsspec in /usr/local/lib/python3.10/site-packages (from gradio-client==1.5.1->gradio) (2024.6.1)\n",
      "Requirement already satisfied: websockets<15.0,>=10.0 in /usr/local/lib/python3.10/site-packages (from gradio-client==1.5.1->gradio) (14.1)\n",
      "Requirement already satisfied: idna>=2.8 in /usr/local/lib/python3.10/site-packages (from anyio<5.0,>=3.0->gradio) (3.10)\n",
      "Requirement already satisfied: sniffio>=1.1 in /usr/local/lib/python3.10/site-packages (from anyio<5.0,>=3.0->gradio) (1.3.1)\n",
      "Requirement already satisfied: exceptiongroup>=1.0.2 in /usr/local/lib/python3.10/site-packages (from anyio<5.0,>=3.0->gradio) (1.2.2)\n",
      "Requirement already satisfied: certifi in /usr/local/lib/python3.10/site-packages (from httpx>=0.24.1->gradio) (2024.8.30)\n",
      "Requirement already satisfied: httpcore==1.* in /usr/local/lib/python3.10/site-packages (from httpx>=0.24.1->gradio) (1.0.7)\n",
      "Requirement already satisfied: h11<0.15,>=0.13 in /usr/local/lib/python3.10/site-packages (from httpcore==1.*->httpx>=0.24.1->gradio) (0.14.0)\n",
      "Requirement already satisfied: filelock in /usr/local/lib/python3.10/site-packages (from huggingface-hub>=0.25.1->gradio) (3.16.1)\n",
      "Requirement already satisfied: requests in /usr/local/lib/python3.10/site-packages (from huggingface-hub>=0.25.1->gradio) (2.32.3)\n",
      "Requirement already satisfied: tqdm>=4.42.1 in /usr/local/lib/python3.10/site-packages (from huggingface-hub>=0.25.1->gradio) (4.67.0)\n",
      "Requirement already satisfied: python-dateutil>=2.8.2 in /usr/local/lib/python3.10/site-packages (from pandas<3.0,>=1.0->gradio) (2.9.0.post0)\n",
      "Requirement already satisfied: pytz>=2020.1 in /usr/local/lib/python3.10/site-packages (from pandas<3.0,>=1.0->gradio) (2024.2)\n",
      "Requirement already satisfied: tzdata>=2022.7 in /usr/local/lib/python3.10/site-packages (from pandas<3.0,>=1.0->gradio) (2024.2)\n",
      "Requirement already satisfied: annotated-types>=0.4.0 in /usr/local/lib/python3.10/site-packages (from pydantic>=2.0->gradio) (0.7.0)\n",
      "Requirement already satisfied: pydantic-core==2.20.1 in /usr/local/lib/python3.10/site-packages (from pydantic>=2.0->gradio) (2.20.1)\n",
      "Requirement already satisfied: click>=8.0.0 in /usr/local/lib/python3.10/site-packages (from typer<1.0,>=0.12->gradio) (8.1.7)\n",
      "Requirement already satisfied: shellingham>=1.3.0 in /usr/local/lib/python3.10/site-packages (from typer<1.0,>=0.12->gradio) (1.5.4)\n",
      "Requirement already satisfied: rich>=10.11.0 in /usr/local/lib/python3.10/site-packages (from typer<1.0,>=0.12->gradio) (13.9.4)\n",
      "Requirement already satisfied: six>=1.5 in /usr/local/lib/python3.10/site-packages (from python-dateutil>=2.8.2->pandas<3.0,>=1.0->gradio) (1.16.0)\n",
      "Requirement already satisfied: markdown-it-py>=2.2.0 in /usr/local/lib/python3.10/site-packages (from rich>=10.11.0->typer<1.0,>=0.12->gradio) (3.0.0)\n",
      "Requirement already satisfied: pygments<3.0.0,>=2.13.0 in /usr/local/lib/python3.10/site-packages (from rich>=10.11.0->typer<1.0,>=0.12->gradio) (2.18.0)\n",
      "Requirement already satisfied: charset-normalizer<4,>=2 in /usr/local/lib/python3.10/site-packages (from requests->huggingface-hub>=0.25.1->gradio) (3.4.0)\n",
      "Requirement already satisfied: urllib3<3,>=1.21.1 in /usr/local/lib/python3.10/site-packages (from requests->huggingface-hub>=0.25.1->gradio) (2.2.3)\n",
      "Requirement already satisfied: mdurl~=0.1 in /usr/local/lib/python3.10/site-packages (from markdown-it-py>=2.2.0->rich>=10.11.0->typer<1.0,>=0.12->gradio) (0.1.2)\n",
      "\u001b[33mDEPRECATION: pytorch-lightning 1.7.7 has a non-standard dependency specifier torch>=1.9.*. pip 24.0 will enforce this behaviour change. A possible replacement is to upgrade to a newer version of pytorch-lightning or contact the author to suggest that they release a version with a conforming dependency specifiers. Discussion can be found at https://github.com/pypa/pip/issues/12063\u001b[0m\u001b[33m\n",
      "\u001b[0m\u001b[33mWARNING: Running pip as the 'root' user can result in broken permissions and conflicting behaviour with the system package manager. It is recommended to use a virtual environment instead: https://pip.pypa.io/warnings/venv\u001b[0m\u001b[33m\n",
      "\u001b[0m\n",
      "\u001b[1m[\u001b[0m\u001b[34;49mnotice\u001b[0m\u001b[1;39;49m]\u001b[0m\u001b[39;49m A new release of pip is available: \u001b[0m\u001b[31;49m23.3.2\u001b[0m\u001b[39;49m -> \u001b[0m\u001b[32;49m24.3.1\u001b[0m\n",
      "\u001b[1m[\u001b[0m\u001b[34;49mnotice\u001b[0m\u001b[1;39;49m]\u001b[0m\u001b[39;49m To update, run: \u001b[0m\u001b[32;49mpip install --upgrade pip\u001b[0m\n",
      "Note: you may need to restart the kernel to use updated packages.\n"
     ]
    }
   ],
   "source": [
    "pip install gradio"
   ]
  },
  {
   "cell_type": "markdown",
   "id": "11b157f0-eab8-4bdd-b4b8-e66bec103cca",
   "metadata": {},
   "source": [
    "如果你正在 ModelScope 的 Notebook 中，还需要运行下面这段代码："
   ]
  },
  {
   "cell_type": "code",
   "execution_count": 3,
   "id": "8af1be90-3708-414d-b1d9-34ee564a3940",
   "metadata": {
    "ExecutionIndicator": {
     "show": false
    },
    "execution": {
     "iopub.execute_input": "2025-01-14T02:28:30.339666Z",
     "iopub.status.busy": "2025-01-14T02:28:30.339339Z",
     "iopub.status.idle": "2025-01-14T02:28:30.342356Z",
     "shell.execute_reply": "2025-01-14T02:28:30.341917Z",
     "shell.execute_reply.started": "2025-01-14T02:28:30.339645Z"
    },
    "tags": []
   },
   "outputs": [],
   "source": [
    "# 如果你正在 ModelScope 的 Notebook 中，还需要运行下面这段代码：\n",
    "import os\n",
    "os.environ['GRADIO_ROOT_PATH'] = f\"/{os.environ['JUPYTER_NAME']}/proxy/7860\""
   ]
  },
  {
   "cell_type": "markdown",
   "id": "d1e7080d-7d50-458c-b16d-4fcf770ae987",
   "metadata": {},
   "source": [
    "## 创建第一个 Gradio 应用\n",
    "\n",
    "让我们从一个非常简单的例子开始：一个接收文本输入并返回该文本倒序输出的应用。\n",
    "\n",
    "### 步骤 1: 定义函数\n",
    "\n",
    "首先，定义一个 Python 函数，这个函数将会是 Gradio 界面的核心逻辑，它可以反转用户输入的字符，并再将其输出给用户。"
   ]
  },
  {
   "cell_type": "code",
   "execution_count": 4,
   "id": "f7d09765-a731-4a19-b12d-ee1768f5af0d",
   "metadata": {
    "execution": {
     "iopub.execute_input": "2025-01-14T02:28:32.707573Z",
     "iopub.status.busy": "2025-01-14T02:28:32.707237Z",
     "iopub.status.idle": "2025-01-14T02:28:32.710574Z",
     "shell.execute_reply": "2025-01-14T02:28:32.709930Z",
     "shell.execute_reply.started": "2025-01-14T02:28:32.707553Z"
    },
    "tags": []
   },
   "outputs": [],
   "source": [
    "def reverse_text(text):\n",
    "    return text[::-1]"
   ]
  },
  {
   "cell_type": "markdown",
   "id": "a0ca2f15-094f-428c-8789-7aca5d6a337d",
   "metadata": {},
   "source": [
    "### 步骤 2: 使用 Gradio 构建接口\n",
    "\n",
    "接下来，利用 Gradio 的组件来构建用户界面。这里我们需要一个文本输入框和一个用于显示结果的文本输出区域。"
   ]
  },
  {
   "cell_type": "code",
   "execution_count": 5,
   "id": "1a5d39cf-528e-4da1-b906-3d874e0c583e",
   "metadata": {
    "execution": {
     "iopub.execute_input": "2025-01-14T02:28:36.250173Z",
     "iopub.status.busy": "2025-01-14T02:28:36.249832Z",
     "iopub.status.idle": "2025-01-14T02:28:39.412325Z",
     "shell.execute_reply": "2025-01-14T02:28:39.411812Z",
     "shell.execute_reply.started": "2025-01-14T02:28:36.250152Z"
    },
    "tags": []
   },
   "outputs": [],
   "source": [
    "import gradio as gr\n",
    "\n",
    "demo = gr.Interface(fn=reverse_text, inputs=\"text\", outputs=\"text\")"
   ]
  },
  {
   "cell_type": "markdown",
   "id": "171dbc31-f8fd-4d61-a808-25504bce0208",
   "metadata": {},
   "source": [
    "上面的代码中：\n",
    "- fn 参数指定了处理输入数据的函数。\n",
    "- inputs 指定输入类型，在这里是文本。\n",
    "- outputs 设置了期望的输出格式，同样为文本。"
   ]
  },
  {
   "cell_type": "markdown",
   "id": "ce69e784-b942-48a9-8428-44cbde08f76b",
   "metadata": {},
   "source": [
    "### 步骤 3: 启动服务\n",
    "\n",
    "最后一步是启动 Gradio 提供的服务，我们可以通过浏览器访问到我们刚才创建的界面。"
   ]
  },
  {
   "cell_type": "code",
   "execution_count": 6,
   "id": "f9614d16-fae8-4e8c-b40a-0f287a856da9",
   "metadata": {
    "ExecutionIndicator": {
     "show": true
    },
    "execution": {
     "iopub.execute_input": "2025-01-14T02:28:41.458722Z",
     "iopub.status.busy": "2025-01-14T02:28:41.458381Z",
     "iopub.status.idle": "2025-01-14T02:28:41.705241Z",
     "shell.execute_reply": "2025-01-14T02:28:41.704638Z",
     "shell.execute_reply.started": "2025-01-14T02:28:41.458702Z"
    },
    "tags": []
   },
   "outputs": [
    {
     "name": "stdout",
     "output_type": "stream",
     "text": [
      "* Running on local URL:  http://127.0.0.1:7860\n",
      "\n",
      "To create a public link, set `share=True` in `launch()`.\n"
     ]
    },
    {
     "data": {
      "text/html": [
       "<div><iframe src=\"http://127.0.0.1:7860/\" width=\"100%\" height=\"500\" allow=\"autoplay; camera; microphone; clipboard-read; clipboard-write;\" frameborder=\"0\" allowfullscreen></iframe></div>"
      ],
      "text/plain": [
       "<IPython.core.display.HTML object>"
      ]
     },
     "metadata": {},
     "output_type": "display_data"
    },
    {
     "data": {
      "text/plain": []
     },
     "execution_count": 6,
     "metadata": {},
     "output_type": "execute_result"
    }
   ],
   "source": [
    "demo.launch()"
   ]
  },
  {
   "cell_type": "markdown",
   "id": "c97c94ac-a3fe-4a9b-b5a5-3fe462b468fb",
   "metadata": {},
   "source": [
    "### 完整代码"
   ]
  },
  {
   "cell_type": "code",
   "execution_count": 7,
   "id": "6b391faf-164e-4928-aa94-91114141d2be",
   "metadata": {
    "execution": {
     "iopub.execute_input": "2025-01-14T02:29:04.538259Z",
     "iopub.status.busy": "2025-01-14T02:29:04.537752Z",
     "iopub.status.idle": "2025-01-14T02:29:05.008838Z",
     "shell.execute_reply": "2025-01-14T02:29:05.008250Z",
     "shell.execute_reply.started": "2025-01-14T02:29:04.538234Z"
    },
    "tags": []
   },
   "outputs": [
    {
     "name": "stdout",
     "output_type": "stream",
     "text": [
      "Closing server running on port: 7860\n",
      "* Running on local URL:  http://127.0.0.1:7860\n",
      "\n",
      "To create a public link, set `share=True` in `launch()`.\n"
     ]
    },
    {
     "data": {
      "text/html": [
       "<div><iframe src=\"http://127.0.0.1:7860/\" width=\"100%\" height=\"500\" allow=\"autoplay; camera; microphone; clipboard-read; clipboard-write;\" frameborder=\"0\" allowfullscreen></iframe></div>"
      ],
      "text/plain": [
       "<IPython.core.display.HTML object>"
      ]
     },
     "metadata": {},
     "output_type": "display_data"
    },
    {
     "data": {
      "text/plain": []
     },
     "execution_count": 7,
     "metadata": {},
     "output_type": "execute_result"
    }
   ],
   "source": [
    "# 在 Notebook 中需要额外运行此代码来关闭之前服务的影响，正常开发不需要\n",
    "try:\n",
    "    demo.close()\n",
    "except NameError:\n",
    "    pass\n",
    "\n",
    "import gradio as gr\n",
    "\n",
    "def reverse_text(text):\n",
    "    return text[::-1]\n",
    "\n",
    "demo = gr.Interface(fn=reverse_text, inputs=\"text\", outputs=\"text\")\n",
    "\n",
    "demo.launch()"
   ]
  }
 ],
 "metadata": {
  "kernelspec": {
   "display_name": "Python 3 (ipykernel)",
   "language": "python",
   "name": "python3"
  },
  "language_info": {
   "codemirror_mode": {
    "name": "ipython",
    "version": 3
   },
   "file_extension": ".py",
   "mimetype": "text/x-python",
   "name": "python",
   "nbconvert_exporter": "python",
   "pygments_lexer": "ipython3",
   "version": "3.10.14"
  }
 },
 "nbformat": 4,
 "nbformat_minor": 5
}
